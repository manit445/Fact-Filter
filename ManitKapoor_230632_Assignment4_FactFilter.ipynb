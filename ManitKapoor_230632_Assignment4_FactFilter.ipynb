{
  "cells": [
    {
      "cell_type": "code",
      "execution_count": 3,
      "metadata": {
        "_cell_guid": "b1076dfc-b9ad-4769-8c92-a6c4dae69d19",
        "_uuid": "8f2839f25d086af736a60e9eeb907d3b93b6e0e5",
        "execution": {
          "iopub.execute_input": "2024-07-03T19:25:29.904423Z",
          "iopub.status.busy": "2024-07-03T19:25:29.904093Z",
          "iopub.status.idle": "2024-07-03T19:25:30.279872Z",
          "shell.execute_reply": "2024-07-03T19:25:30.278902Z",
          "shell.execute_reply.started": "2024-07-03T19:25:29.904397Z"
        },
        "trusted": true,
        "id": "b5Lh08GRz30E"
      },
      "outputs": [],
      "source": [
        "# This Python 3 environment comes with many helpful analytics libraries installed\n",
        "# It is defined by the kaggle/python Docker image: https://github.com/kaggle/docker-python\n",
        "# For example, here's several helpful packages to load\n",
        "\n",
        "import numpy as np # linear algebra\n",
        "import pandas as pd # data processing, CSV file I/O (e.g. pd.read_csv)\n",
        "\n",
        "# Input data files are available in the read-only \"../input/\" directory\n",
        "# For example, running this (by clicking run or pressing Shift+Enter) will list all files under the input directory\n",
        "\n",
        "\n",
        "import os\n",
        "for dirname, _, filenames in os.walk('/kaggle/input'):\n",
        "    for filename in filenames:\n",
        "        print(os.path.join(dirname, filename))\n",
        "\n",
        "# You can write up to 20GB to the current directory (/kaggle/working/) that gets preserved as output when you create a version using \"Save & Run All\"\n",
        "# You can also write temporary files to /kaggle/temp/, but they won't be saved outside of the current session"
      ]
    },
    {
      "cell_type": "code",
      "execution_count": 1,
      "metadata": {
        "execution": {
          "iopub.execute_input": "2024-07-03T19:25:30.282276Z",
          "iopub.status.busy": "2024-07-03T19:25:30.281746Z",
          "iopub.status.idle": "2024-07-03T19:25:31.451266Z",
          "shell.execute_reply": "2024-07-03T19:25:31.450442Z",
          "shell.execute_reply.started": "2024-07-03T19:25:30.282242Z"
        },
        "trusted": true,
        "id": "X4inZWdcz30F"
      },
      "outputs": [],
      "source": [
        "import nltk\n",
        "from nltk.stem import PorterStemmer as ps\n",
        "from nltk.corpus import stopwords"
      ]
    },
    {
      "cell_type": "code",
      "execution_count": 2,
      "metadata": {
        "execution": {
          "iopub.execute_input": "2024-07-03T19:25:31.453076Z",
          "iopub.status.busy": "2024-07-03T19:25:31.452756Z",
          "iopub.status.idle": "2024-07-03T19:25:33.887575Z",
          "shell.execute_reply": "2024-07-03T19:25:33.886778Z",
          "shell.execute_reply.started": "2024-07-03T19:25:31.453051Z"
        },
        "trusted": true,
        "colab": {
          "base_uri": "https://localhost:8080/",
          "height": 211
        },
        "id": "dMQasTW9z30F",
        "outputId": "f587390f-a3fe-4523-e590-3fad26025877"
      },
      "outputs": [
        {
          "output_type": "error",
          "ename": "NameError",
          "evalue": "name 'pd' is not defined",
          "traceback": [
            "\u001b[0;31m---------------------------------------------------------------------------\u001b[0m",
            "\u001b[0;31mNameError\u001b[0m                                 Traceback (most recent call last)",
            "\u001b[0;32m<ipython-input-2-d74c84c209d6>\u001b[0m in \u001b[0;36m<cell line: 1>\u001b[0;34m()\u001b[0m\n\u001b[0;32m----> 1\u001b[0;31m \u001b[0mdf_fake\u001b[0m \u001b[0;34m=\u001b[0m \u001b[0mpd\u001b[0m\u001b[0;34m.\u001b[0m\u001b[0mread_csv\u001b[0m\u001b[0;34m(\u001b[0m\u001b[0;34m'/kaggle/input/fake-news-detection-datasets/News _dataset/Fake.csv'\u001b[0m\u001b[0;34m)\u001b[0m\u001b[0;34m\u001b[0m\u001b[0;34m\u001b[0m\u001b[0m\n\u001b[0m\u001b[1;32m      2\u001b[0m \u001b[0mdf_fake\u001b[0m\u001b[0;34m.\u001b[0m\u001b[0minsert\u001b[0m\u001b[0;34m(\u001b[0m\u001b[0mcolumn\u001b[0m \u001b[0;34m=\u001b[0m \u001b[0;34m'classification'\u001b[0m\u001b[0;34m,\u001b[0m \u001b[0mvalue\u001b[0m\u001b[0;34m=\u001b[0m \u001b[0;34m'fake'\u001b[0m\u001b[0;34m,\u001b[0m \u001b[0mloc\u001b[0m \u001b[0;34m=\u001b[0m\u001b[0;36m4\u001b[0m\u001b[0;34m)\u001b[0m\u001b[0;34m\u001b[0m\u001b[0;34m\u001b[0m\u001b[0m\n\u001b[1;32m      3\u001b[0m \u001b[0mdf_true\u001b[0m \u001b[0;34m=\u001b[0m \u001b[0mpd\u001b[0m\u001b[0;34m.\u001b[0m\u001b[0mread_csv\u001b[0m\u001b[0;34m(\u001b[0m\u001b[0;34m'/kaggle/input/fake-news-detection-datasets/News _dataset/True.csv'\u001b[0m\u001b[0;34m)\u001b[0m\u001b[0;34m\u001b[0m\u001b[0;34m\u001b[0m\u001b[0m\n\u001b[1;32m      4\u001b[0m \u001b[0mdf_true\u001b[0m\u001b[0;34m.\u001b[0m\u001b[0minsert\u001b[0m\u001b[0;34m(\u001b[0m\u001b[0mcolumn\u001b[0m \u001b[0;34m=\u001b[0m \u001b[0;34m'classification'\u001b[0m\u001b[0;34m,\u001b[0m \u001b[0mvalue\u001b[0m\u001b[0;34m=\u001b[0m \u001b[0;34m'true'\u001b[0m\u001b[0;34m,\u001b[0m \u001b[0mloc\u001b[0m \u001b[0;34m=\u001b[0m \u001b[0;36m4\u001b[0m\u001b[0;34m)\u001b[0m\u001b[0;34m\u001b[0m\u001b[0;34m\u001b[0m\u001b[0m\n\u001b[1;32m      5\u001b[0m \u001b[0mdf\u001b[0m \u001b[0;34m=\u001b[0m \u001b[0mpd\u001b[0m\u001b[0;34m.\u001b[0m\u001b[0mconcat\u001b[0m\u001b[0;34m(\u001b[0m\u001b[0;34m[\u001b[0m\u001b[0mdf_fake\u001b[0m\u001b[0;34m,\u001b[0m \u001b[0mdf_true\u001b[0m\u001b[0;34m]\u001b[0m\u001b[0;34m,\u001b[0m \u001b[0mignore_index\u001b[0m\u001b[0;34m=\u001b[0m\u001b[0;32mTrue\u001b[0m\u001b[0;34m)\u001b[0m\u001b[0;34m\u001b[0m\u001b[0;34m\u001b[0m\u001b[0m\n",
            "\u001b[0;31mNameError\u001b[0m: name 'pd' is not defined"
          ]
        }
      ],
      "source": [
        "df_fake = pd.read_csv('/kaggle/input/fake-news-detection-datasets/News _dataset/Fake.csv')\n",
        "df_fake.insert(column = 'classification', value= 'fake', loc =4)\n",
        "df_true = pd.read_csv('/kaggle/input/fake-news-detection-datasets/News _dataset/True.csv')\n",
        "df_true.insert(column = 'classification', value= 'true', loc = 4)\n",
        "df = pd.concat([df_fake, df_true], ignore_index=True)"
      ]
    },
    {
      "cell_type": "code",
      "execution_count": null,
      "metadata": {
        "execution": {
          "iopub.execute_input": "2024-07-03T19:25:33.888967Z",
          "iopub.status.busy": "2024-07-03T19:25:33.888669Z",
          "iopub.status.idle": "2024-07-03T19:25:33.910561Z",
          "shell.execute_reply": "2024-07-03T19:25:33.909638Z",
          "shell.execute_reply.started": "2024-07-03T19:25:33.888941Z"
        },
        "trusted": true,
        "id": "ZWTfifcIz30F"
      },
      "outputs": [],
      "source": [
        "df"
      ]
    },
    {
      "cell_type": "code",
      "execution_count": null,
      "metadata": {
        "execution": {
          "iopub.execute_input": "2024-07-03T19:25:33.913108Z",
          "iopub.status.busy": "2024-07-03T19:25:33.912793Z",
          "iopub.status.idle": "2024-07-03T19:25:33.956696Z",
          "shell.execute_reply": "2024-07-03T19:25:33.955820Z",
          "shell.execute_reply.started": "2024-07-03T19:25:33.913084Z"
        },
        "trusted": true,
        "id": "GT0vb5tEz30F"
      },
      "outputs": [],
      "source": [
        "df.info()"
      ]
    },
    {
      "cell_type": "code",
      "execution_count": null,
      "metadata": {
        "execution": {
          "iopub.execute_input": "2024-07-03T19:25:33.957860Z",
          "iopub.status.busy": "2024-07-03T19:25:33.957610Z",
          "iopub.status.idle": "2024-07-03T19:25:33.969945Z",
          "shell.execute_reply": "2024-07-03T19:25:33.968953Z",
          "shell.execute_reply.started": "2024-07-03T19:25:33.957838Z"
        },
        "trusted": true,
        "collapsed": true,
        "id": "2vUC8Heyz30F"
      },
      "outputs": [],
      "source": [
        "df"
      ]
    },
    {
      "cell_type": "code",
      "execution_count": null,
      "metadata": {
        "execution": {
          "iopub.execute_input": "2024-07-03T19:25:33.971566Z",
          "iopub.status.busy": "2024-07-03T19:25:33.971242Z",
          "iopub.status.idle": "2024-07-03T19:25:34.002817Z",
          "shell.execute_reply": "2024-07-03T19:25:34.001847Z",
          "shell.execute_reply.started": "2024-07-03T19:25:33.971542Z"
        },
        "trusted": true,
        "id": "VZkMHWKTz30F"
      },
      "outputs": [],
      "source": [
        "df.isnull().sum()"
      ]
    },
    {
      "cell_type": "code",
      "execution_count": null,
      "metadata": {
        "execution": {
          "iopub.execute_input": "2024-07-03T19:25:34.005063Z",
          "iopub.status.busy": "2024-07-03T19:25:34.004673Z",
          "iopub.status.idle": "2024-07-03T19:25:34.012322Z",
          "shell.execute_reply": "2024-07-03T19:25:34.011166Z",
          "shell.execute_reply.started": "2024-07-03T19:25:34.005034Z"
        },
        "trusted": true,
        "id": "0Ccx56Qoz30G"
      },
      "outputs": [],
      "source": [
        "df = df.drop(['date', 'title', 'subject'], axis = 1)"
      ]
    },
    {
      "cell_type": "code",
      "execution_count": null,
      "metadata": {
        "execution": {
          "iopub.execute_input": "2024-07-03T19:25:34.014797Z",
          "iopub.status.busy": "2024-07-03T19:25:34.014520Z",
          "iopub.status.idle": "2024-07-03T19:25:34.026332Z",
          "shell.execute_reply": "2024-07-03T19:25:34.025496Z",
          "shell.execute_reply.started": "2024-07-03T19:25:34.014775Z"
        },
        "trusted": true,
        "id": "y0VxOz-Hz30G"
      },
      "outputs": [],
      "source": [
        "df"
      ]
    },
    {
      "cell_type": "code",
      "execution_count": null,
      "metadata": {
        "execution": {
          "iopub.execute_input": "2024-07-03T19:25:34.027639Z",
          "iopub.status.busy": "2024-07-03T19:25:34.027376Z",
          "iopub.status.idle": "2024-07-03T19:25:34.034011Z",
          "shell.execute_reply": "2024-07-03T19:25:34.033238Z",
          "shell.execute_reply.started": "2024-07-03T19:25:34.027608Z"
        },
        "trusted": true,
        "id": "XTIasRIez30G"
      },
      "outputs": [],
      "source": [
        "import re\n",
        "stemmer = ps()\n",
        "corpus = []"
      ]
    },
    {
      "cell_type": "code",
      "execution_count": null,
      "metadata": {
        "execution": {
          "iopub.execute_input": "2024-07-03T19:25:34.036416Z",
          "iopub.status.busy": "2024-07-03T19:25:34.036162Z",
          "iopub.status.idle": "2024-07-03T20:10:41.520581Z",
          "shell.execute_reply": "2024-07-03T20:10:41.519592Z",
          "shell.execute_reply.started": "2024-07-03T19:25:34.036395Z"
        },
        "trusted": true,
        "id": "h1VzGOUKz30G"
      },
      "outputs": [],
      "source": [
        "for i in range(len(df['text'])):\n",
        "  sent =  re.sub(r'[^\\w\\s]', '', df['text'][i]) #cleaning each sentence will remove all punctutation from it\n",
        "  sent = sent.lower() #lower kr rhe hain sentence\n",
        "  sent = sent.split() #list of words mil gye ab\n",
        "  sent = [stemmer.stem(word) for word in sent if word not in set(stopwords.words('english'))]\n",
        "  corpus.append(sent)"
      ]
    },
    {
      "cell_type": "code",
      "execution_count": null,
      "metadata": {
        "execution": {
          "iopub.execute_input": "2024-07-03T20:10:41.523162Z",
          "iopub.status.busy": "2024-07-03T20:10:41.522763Z",
          "iopub.status.idle": "2024-07-03T20:10:45.210415Z",
          "shell.execute_reply": "2024-07-03T20:10:45.209481Z",
          "shell.execute_reply.started": "2024-07-03T20:10:41.523130Z"
        },
        "trusted": true,
        "id": "h3iHKtV-z30G"
      },
      "outputs": [],
      "source": [
        "corpus"
      ]
    },
    {
      "cell_type": "code",
      "execution_count": null,
      "metadata": {
        "execution": {
          "iopub.execute_input": "2024-07-03T20:10:45.212583Z",
          "iopub.status.busy": "2024-07-03T20:10:45.211843Z",
          "iopub.status.idle": "2024-07-03T20:10:47.220082Z",
          "shell.execute_reply": "2024-07-03T20:10:47.219043Z",
          "shell.execute_reply.started": "2024-07-03T20:10:45.212541Z"
        },
        "trusted": true,
        "id": "IQk_eZd9z30G"
      },
      "outputs": [],
      "source": [
        "corpus_joined = [' '.join(token) for token in corpus]\n",
        "print(corpus_joined)"
      ]
    },
    {
      "cell_type": "code",
      "execution_count": null,
      "metadata": {
        "execution": {
          "iopub.execute_input": "2024-07-03T20:10:47.222512Z",
          "iopub.status.busy": "2024-07-03T20:10:47.222202Z",
          "iopub.status.idle": "2024-07-03T20:10:47.233613Z",
          "shell.execute_reply": "2024-07-03T20:10:47.232631Z",
          "shell.execute_reply.started": "2024-07-03T20:10:47.222485Z"
        },
        "trusted": true,
        "id": "-GakMQLlz30G"
      },
      "outputs": [],
      "source": [
        "df.insert(2, \"processed_text\", corpus_joined, True)"
      ]
    },
    {
      "cell_type": "code",
      "execution_count": null,
      "metadata": {
        "execution": {
          "iopub.execute_input": "2024-07-03T20:10:47.235719Z",
          "iopub.status.busy": "2024-07-03T20:10:47.235234Z",
          "iopub.status.idle": "2024-07-03T20:10:47.255765Z",
          "shell.execute_reply": "2024-07-03T20:10:47.254402Z",
          "shell.execute_reply.started": "2024-07-03T20:10:47.235676Z"
        },
        "trusted": true,
        "id": "wpZ7d546z30G"
      },
      "outputs": [],
      "source": [
        "df"
      ]
    },
    {
      "cell_type": "code",
      "execution_count": null,
      "metadata": {
        "execution": {
          "iopub.execute_input": "2024-07-03T20:10:47.257879Z",
          "iopub.status.busy": "2024-07-03T20:10:47.257415Z",
          "iopub.status.idle": "2024-07-03T20:10:47.283400Z",
          "shell.execute_reply": "2024-07-03T20:10:47.282085Z",
          "shell.execute_reply.started": "2024-07-03T20:10:47.257837Z"
        },
        "trusted": true,
        "id": "zQbs3D8kz30G"
      },
      "outputs": [],
      "source": [
        "from sklearn.model_selection import train_test_split\n",
        "X_train, X_test, y_train, y_test = train_test_split(df[\"processed_text\"], df[\"classification\"], test_size = 0.2, random_state = 69)"
      ]
    },
    {
      "cell_type": "code",
      "execution_count": null,
      "metadata": {
        "execution": {
          "iopub.execute_input": "2024-07-03T20:10:47.285579Z",
          "iopub.status.busy": "2024-07-03T20:10:47.285291Z",
          "iopub.status.idle": "2024-07-03T20:11:20.419879Z",
          "shell.execute_reply": "2024-07-03T20:11:20.419043Z",
          "shell.execute_reply.started": "2024-07-03T20:10:47.285555Z"
        },
        "trusted": true,
        "id": "4w_xSLhCz30G"
      },
      "outputs": [],
      "source": [
        "from sklearn.feature_extraction.text import TfidfVectorizer\n",
        "cx = TfidfVectorizer()\n",
        "X_train_tfidf = cx.fit_transform(X_train).toarray()\n",
        "X_test_tfidf = cx.transform(X_test).toarray()"
      ]
    },
    {
      "cell_type": "code",
      "execution_count": null,
      "metadata": {
        "execution": {
          "iopub.execute_input": "2024-07-03T20:11:20.421349Z",
          "iopub.status.busy": "2024-07-03T20:11:20.421044Z",
          "iopub.status.idle": "2024-07-03T20:11:20.638954Z",
          "shell.execute_reply": "2024-07-03T20:11:20.637051Z",
          "shell.execute_reply.started": "2024-07-03T20:11:20.421325Z"
        },
        "trusted": true,
        "id": "94mBju6-z30G"
      },
      "outputs": [],
      "source": [
        "from sklearn.tree import DecisionTreeClassifier\n",
        "from sklearn.metrics import accuracy_score\n",
        "decision_tree = DecisionTreeClassifier()\n",
        "decision_tree.fit(X_train_tfidf, y_train)"
      ]
    },
    {
      "cell_type": "code",
      "execution_count": null,
      "metadata": {
        "execution": {
          "iopub.status.busy": "2024-07-03T20:11:20.639732Z",
          "iopub.status.idle": "2024-07-03T20:11:20.640058Z",
          "shell.execute_reply": "2024-07-03T20:11:20.639901Z",
          "shell.execute_reply.started": "2024-07-03T20:11:20.639888Z"
        },
        "trusted": true,
        "id": "vRofY1cSz30G"
      },
      "outputs": [],
      "source": [
        "y_pred = decision_tree.predict(X_test_tfidf)"
      ]
    },
    {
      "cell_type": "code",
      "execution_count": null,
      "metadata": {
        "execution": {
          "iopub.status.busy": "2024-07-03T20:11:20.641551Z",
          "iopub.status.idle": "2024-07-03T20:11:20.641862Z",
          "shell.execute_reply": "2024-07-03T20:11:20.641721Z",
          "shell.execute_reply.started": "2024-07-03T20:11:20.641709Z"
        },
        "trusted": true,
        "id": "Mw2WLWWBz30G"
      },
      "outputs": [],
      "source": [
        "accuracy = accuracy_score(y_test, y_pred)\n",
        "print(f'Decision Tree Accuracy: {accuracy:.2f}')"
      ]
    },
    {
      "cell_type": "code",
      "source": [
        "from sklearn.metrics import classification_report\n",
        "print(classification_report(y_test, y_pred))"
      ],
      "metadata": {
        "id": "0yaobX5Q2-2o"
      },
      "execution_count": null,
      "outputs": []
    },
    {
      "cell_type": "code",
      "execution_count": null,
      "metadata": {
        "execution": {
          "iopub.status.busy": "2024-07-03T20:11:20.642912Z",
          "iopub.status.idle": "2024-07-03T20:11:20.643365Z",
          "shell.execute_reply": "2024-07-03T20:11:20.643157Z",
          "shell.execute_reply.started": "2024-07-03T20:11:20.643138Z"
        },
        "trusted": true,
        "id": "9liXHN1Xz30G"
      },
      "outputs": [],
      "source": [
        "from sklearn.ensemble import RandomForestClassifier\n",
        "from sklearn.metrics import accuracy_score\n",
        "random_forest = RandomForestClassifier()\n",
        "random_forest.fit(X_train_tfidf, y_train)"
      ]
    },
    {
      "cell_type": "code",
      "execution_count": null,
      "metadata": {
        "execution": {
          "iopub.status.busy": "2024-07-03T20:11:20.645091Z",
          "iopub.status.idle": "2024-07-03T20:11:20.645536Z",
          "shell.execute_reply": "2024-07-03T20:11:20.645314Z",
          "shell.execute_reply.started": "2024-07-03T20:11:20.645296Z"
        },
        "trusted": true,
        "id": "AAeQp3qtz30G"
      },
      "outputs": [],
      "source": [
        "y_pred = random_forest.predict(X_test_tfidf)"
      ]
    },
    {
      "cell_type": "code",
      "execution_count": null,
      "metadata": {
        "execution": {
          "iopub.status.busy": "2024-07-03T20:11:20.647096Z",
          "iopub.status.idle": "2024-07-03T20:11:20.647540Z",
          "shell.execute_reply": "2024-07-03T20:11:20.647326Z",
          "shell.execute_reply.started": "2024-07-03T20:11:20.647307Z"
        },
        "trusted": true,
        "id": "DL-Zkhdmz30G"
      },
      "outputs": [],
      "source": [
        "accuracy = accuracy_score(y_test, y_pred)\n",
        "print(f'Random Forest Accuracy: {accuracy:.2f}')"
      ]
    },
    {
      "cell_type": "code",
      "source": [
        "from sklearn.metrics import classification_report\n",
        "print(classification_report(y_test, y_pred))"
      ],
      "metadata": {
        "id": "zvgGlynG29Na"
      },
      "execution_count": null,
      "outputs": []
    },
    {
      "cell_type": "code",
      "execution_count": null,
      "metadata": {
        "execution": {
          "iopub.status.busy": "2024-07-03T20:11:20.648502Z",
          "iopub.status.idle": "2024-07-03T20:11:20.648940Z",
          "shell.execute_reply": "2024-07-03T20:11:20.648737Z",
          "shell.execute_reply.started": "2024-07-03T20:11:20.648719Z"
        },
        "trusted": true,
        "id": "cxV8KB7Az30G"
      },
      "outputs": [],
      "source": [
        "from sklearn.linear_model import LogisticRegression\n",
        "from sklearn.metrics import accuracy_score\n",
        "clf = LogisticRegression(random_state=0)\n",
        "clf.fit(X_train_tfidf, y_train)"
      ]
    },
    {
      "cell_type": "code",
      "execution_count": null,
      "metadata": {
        "execution": {
          "iopub.status.busy": "2024-07-03T20:11:20.650964Z",
          "iopub.status.idle": "2024-07-03T20:11:20.651282Z",
          "shell.execute_reply": "2024-07-03T20:11:20.651143Z",
          "shell.execute_reply.started": "2024-07-03T20:11:20.651130Z"
        },
        "trusted": true,
        "id": "si3H-RHIz30G"
      },
      "outputs": [],
      "source": [
        "y_pred = clf.predict(X_test_tfidf)\n",
        "acc = accuracy_score(y_test, y_pred)\n",
        "print(\"Logistic Regression model accuracy (in %):\", acc*100)"
      ]
    },
    {
      "cell_type": "code",
      "execution_count": null,
      "metadata": {
        "id": "tRebrT9Gz30G"
      },
      "outputs": [],
      "source": [
        "from sklearn.metrics import classification_report\n",
        "print(classification_report(y_test, y_pred))"
      ]
    },
    {
      "cell_type": "code",
      "execution_count": null,
      "metadata": {
        "id": "p42rEz03z30G"
      },
      "outputs": [],
      "source": []
    }
  ],
  "metadata": {
    "kaggle": {
      "accelerator": "nvidiaTeslaT4",
      "dataSources": [
        {
          "datasetId": 2712039,
          "sourceId": 4679796,
          "sourceType": "datasetVersion"
        }
      ],
      "dockerImageVersionId": 30733,
      "isGpuEnabled": true,
      "isInternetEnabled": true,
      "language": "python",
      "sourceType": "notebook"
    },
    "kernelspec": {
      "display_name": "Python 3",
      "name": "python3"
    },
    "language_info": {
      "codemirror_mode": {
        "name": "ipython",
        "version": 3
      },
      "file_extension": ".py",
      "mimetype": "text/x-python",
      "name": "python",
      "nbconvert_exporter": "python",
      "pygments_lexer": "ipython3",
      "version": "3.10.13"
    },
    "colab": {
      "provenance": [],
      "gpuType": "T4"
    },
    "accelerator": "GPU"
  },
  "nbformat": 4,
  "nbformat_minor": 0
}